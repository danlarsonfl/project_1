{
 "cells": [
  {
   "cell_type": "code",
   "execution_count": 2,
   "metadata": {},
   "outputs": [
    {
     "output_type": "execute_result",
     "data": {
      "text/plain": [
       "   acousticness                    artists  danceability  duration_ms  energy  \\\n",
       "0      0.991000            ['Mamie Smith']         0.598       168333   0.224   \n",
       "1      0.643000  [\"Screamin' Jay Hawkins\"]         0.852       150200   0.517   \n",
       "2      0.993000            ['Mamie Smith']         0.647       163827   0.186   \n",
       "3      0.000173        ['Oscar Velazquez']         0.730       422087   0.798   \n",
       "4      0.295000                   ['Mixe']         0.704       165224   0.707   \n",
       "\n",
       "   explicit                      id  instrumentalness  key  liveness  \\\n",
       "0         0  0cS0A1fUEUd1EW3FcF8AEI          0.000522    5    0.3790   \n",
       "1         0  0hbkKFIJm7Z05H8Zl9w30f          0.026400    5    0.0809   \n",
       "2         0  11m7laMUgmOKqI3oYzuhne          0.000018    0    0.5190   \n",
       "3         0  19Lc5SfJJ5O1oaxY0fpwfh          0.801000    2    0.1280   \n",
       "4         1  2hJjbsLCytGsnAHfdsLejp          0.000246   10    0.4020   \n",
       "\n",
       "   loudness  mode                                               name  \\\n",
       "0   -12.628     0                           Keep A Song In Your Soul   \n",
       "1    -7.261     0                               I Put A Spell On You   \n",
       "2   -12.098     1                                       Golfing Papa   \n",
       "3    -7.311     1  True House Music - Xavier Santos & Carlos Gomi...   \n",
       "4    -6.036     0                                          Xuniverxe   \n",
       "\n",
       "   popularity release_date  speechiness    tempo  valence  year  \n",
       "0          12         1920       0.0936  149.976   0.6340  1920  \n",
       "1           7   1920-01-05       0.0534   86.889   0.9500  1920  \n",
       "2           4         1920       0.1740   97.600   0.6890  1920  \n",
       "3          17   1920-01-01       0.0425  127.997   0.0422  1920  \n",
       "4           2   1920-10-01       0.0768  122.076   0.2990  1920  "
      ],
      "text/html": "<div>\n<style scoped>\n    .dataframe tbody tr th:only-of-type {\n        vertical-align: middle;\n    }\n\n    .dataframe tbody tr th {\n        vertical-align: top;\n    }\n\n    .dataframe thead th {\n        text-align: right;\n    }\n</style>\n<table border=\"1\" class=\"dataframe\">\n  <thead>\n    <tr style=\"text-align: right;\">\n      <th></th>\n      <th>acousticness</th>\n      <th>artists</th>\n      <th>danceability</th>\n      <th>duration_ms</th>\n      <th>energy</th>\n      <th>explicit</th>\n      <th>id</th>\n      <th>instrumentalness</th>\n      <th>key</th>\n      <th>liveness</th>\n      <th>loudness</th>\n      <th>mode</th>\n      <th>name</th>\n      <th>popularity</th>\n      <th>release_date</th>\n      <th>speechiness</th>\n      <th>tempo</th>\n      <th>valence</th>\n      <th>year</th>\n    </tr>\n  </thead>\n  <tbody>\n    <tr>\n      <th>0</th>\n      <td>0.991000</td>\n      <td>['Mamie Smith']</td>\n      <td>0.598</td>\n      <td>168333</td>\n      <td>0.224</td>\n      <td>0</td>\n      <td>0cS0A1fUEUd1EW3FcF8AEI</td>\n      <td>0.000522</td>\n      <td>5</td>\n      <td>0.3790</td>\n      <td>-12.628</td>\n      <td>0</td>\n      <td>Keep A Song In Your Soul</td>\n      <td>12</td>\n      <td>1920</td>\n      <td>0.0936</td>\n      <td>149.976</td>\n      <td>0.6340</td>\n      <td>1920</td>\n    </tr>\n    <tr>\n      <th>1</th>\n      <td>0.643000</td>\n      <td>[\"Screamin' Jay Hawkins\"]</td>\n      <td>0.852</td>\n      <td>150200</td>\n      <td>0.517</td>\n      <td>0</td>\n      <td>0hbkKFIJm7Z05H8Zl9w30f</td>\n      <td>0.026400</td>\n      <td>5</td>\n      <td>0.0809</td>\n      <td>-7.261</td>\n      <td>0</td>\n      <td>I Put A Spell On You</td>\n      <td>7</td>\n      <td>1920-01-05</td>\n      <td>0.0534</td>\n      <td>86.889</td>\n      <td>0.9500</td>\n      <td>1920</td>\n    </tr>\n    <tr>\n      <th>2</th>\n      <td>0.993000</td>\n      <td>['Mamie Smith']</td>\n      <td>0.647</td>\n      <td>163827</td>\n      <td>0.186</td>\n      <td>0</td>\n      <td>11m7laMUgmOKqI3oYzuhne</td>\n      <td>0.000018</td>\n      <td>0</td>\n      <td>0.5190</td>\n      <td>-12.098</td>\n      <td>1</td>\n      <td>Golfing Papa</td>\n      <td>4</td>\n      <td>1920</td>\n      <td>0.1740</td>\n      <td>97.600</td>\n      <td>0.6890</td>\n      <td>1920</td>\n    </tr>\n    <tr>\n      <th>3</th>\n      <td>0.000173</td>\n      <td>['Oscar Velazquez']</td>\n      <td>0.730</td>\n      <td>422087</td>\n      <td>0.798</td>\n      <td>0</td>\n      <td>19Lc5SfJJ5O1oaxY0fpwfh</td>\n      <td>0.801000</td>\n      <td>2</td>\n      <td>0.1280</td>\n      <td>-7.311</td>\n      <td>1</td>\n      <td>True House Music - Xavier Santos &amp; Carlos Gomi...</td>\n      <td>17</td>\n      <td>1920-01-01</td>\n      <td>0.0425</td>\n      <td>127.997</td>\n      <td>0.0422</td>\n      <td>1920</td>\n    </tr>\n    <tr>\n      <th>4</th>\n      <td>0.295000</td>\n      <td>['Mixe']</td>\n      <td>0.704</td>\n      <td>165224</td>\n      <td>0.707</td>\n      <td>1</td>\n      <td>2hJjbsLCytGsnAHfdsLejp</td>\n      <td>0.000246</td>\n      <td>10</td>\n      <td>0.4020</td>\n      <td>-6.036</td>\n      <td>0</td>\n      <td>Xuniverxe</td>\n      <td>2</td>\n      <td>1920-10-01</td>\n      <td>0.0768</td>\n      <td>122.076</td>\n      <td>0.2990</td>\n      <td>1920</td>\n    </tr>\n  </tbody>\n</table>\n</div>"
     },
     "metadata": {},
     "execution_count": 2
    }
   ],
   "source": [
    "import pandas as pd\n",
    "import numpy as np\n",
    "import matplotlib.pyplot as pld \n",
    "import os\n",
    "import requests\n",
    "\n",
    "spotify_data = pd.read_csv(\"Resources/data.csv\")\n",
    "\n",
    "spot_data = pd.DataFrame(spotify_data)\n",
    "\n",
    "spot_data.head()\n",
    "\n"
   ]
  },
  {
   "cell_type": "code",
   "execution_count": 12,
   "metadata": {},
   "outputs": [
    {
     "output_type": "execute_result",
     "data": {
      "text/plain": [
       "                  Artist Danceability  Explicit  \\\n",
       "0            Mamie Smith       59.80%         0   \n",
       "1  Screamin' Jay Hawkins       85.20%         0   \n",
       "2            Mamie Smith       64.70%         0   \n",
       "3        Oscar Velazquez       73.00%         0   \n",
       "4                   Mixe       70.40%         1   \n",
       "\n",
       "                                           Song Name  Popularity Release Date  \\\n",
       "0                           Keep A Song In Your Soul          12         1920   \n",
       "1                               I Put A Spell On You           7   1920-01-05   \n",
       "2                                       Golfing Papa           4         1920   \n",
       "3  True House Music - Xavier Santos & Carlos Gomi...          17   1920-01-01   \n",
       "4                                          Xuniverxe           2   1920-10-01   \n",
       "\n",
       "   Release Year  \n",
       "0          1920  \n",
       "1          1920  \n",
       "2          1920  \n",
       "3          1920  \n",
       "4          1920  "
      ],
      "text/html": "<div>\n<style scoped>\n    .dataframe tbody tr th:only-of-type {\n        vertical-align: middle;\n    }\n\n    .dataframe tbody tr th {\n        vertical-align: top;\n    }\n\n    .dataframe thead th {\n        text-align: right;\n    }\n</style>\n<table border=\"1\" class=\"dataframe\">\n  <thead>\n    <tr style=\"text-align: right;\">\n      <th></th>\n      <th>Artist</th>\n      <th>Danceability</th>\n      <th>Explicit</th>\n      <th>Song Name</th>\n      <th>Popularity</th>\n      <th>Release Date</th>\n      <th>Release Year</th>\n    </tr>\n  </thead>\n  <tbody>\n    <tr>\n      <th>0</th>\n      <td>Mamie Smith</td>\n      <td>59.80%</td>\n      <td>0</td>\n      <td>Keep A Song In Your Soul</td>\n      <td>12</td>\n      <td>1920</td>\n      <td>1920</td>\n    </tr>\n    <tr>\n      <th>1</th>\n      <td>Screamin' Jay Hawkins</td>\n      <td>85.20%</td>\n      <td>0</td>\n      <td>I Put A Spell On You</td>\n      <td>7</td>\n      <td>1920-01-05</td>\n      <td>1920</td>\n    </tr>\n    <tr>\n      <th>2</th>\n      <td>Mamie Smith</td>\n      <td>64.70%</td>\n      <td>0</td>\n      <td>Golfing Papa</td>\n      <td>4</td>\n      <td>1920</td>\n      <td>1920</td>\n    </tr>\n    <tr>\n      <th>3</th>\n      <td>Oscar Velazquez</td>\n      <td>73.00%</td>\n      <td>0</td>\n      <td>True House Music - Xavier Santos &amp; Carlos Gomi...</td>\n      <td>17</td>\n      <td>1920-01-01</td>\n      <td>1920</td>\n    </tr>\n    <tr>\n      <th>4</th>\n      <td>Mixe</td>\n      <td>70.40%</td>\n      <td>1</td>\n      <td>Xuniverxe</td>\n      <td>2</td>\n      <td>1920-10-01</td>\n      <td>1920</td>\n    </tr>\n  </tbody>\n</table>\n</div>"
     },
     "metadata": {},
     "execution_count": 12
    }
   ],
   "source": [
    "spot_data.columns\n",
    "\n",
    "drop_columns = ['acousticness', 'duration_ms', 'energy', 'id', 'instrumentalness', 'key', 'liveness', 'loudness',\n",
    "       'mode', 'speechiness', 'tempo',\n",
    "       'valence']\n",
    "clean_spot = spot_data.drop(columns=drop_columns)\n",
    "\n",
    "clean_spot = clean_spot.rename(columns={\"artists\":\"Artist\",\"danceability\":\"Danceability\",\"explicit\":\"Explicit\",\"name\":\"Song Name\",\"popularity\":\"Popularity\",\"release_date\":\"Release Date\",\"year\":\"Release Year\"})\n",
    "\n",
    "clean_spot[\"Danceability\"] = clean_spot[\"Danceability\"]*100\n",
    "\n",
    "clean_spot[\"Danceability\"] = clean_spot[\"Danceability\"].map(\"{0:,.2f}%\".format)\n",
    "\n",
    "clean_spot[\"Artist\"] = clean_spot[\"Artist\"].str.strip('[]')\n",
    "clean_spot[\"Artist\"] = clean_spot[\"Artist\"].str.strip('[\"\"]')\n",
    "clean_spot[\"Artist\"] = clean_spot[\"Artist\"].str.strip(\"['']\")\n",
    "\n",
    "clean_spot.head()"
   ]
  },
  {
   "cell_type": "code",
   "execution_count": 27,
   "metadata": {},
   "outputs": [],
   "source": [
    "#Get Artists Names & Popularity, and Dancability Columns\n",
    "#Get Song titles, Popularity and Danceability Columns\n",
    "\n",
    "\n",
    "#Groupby Artist Name, Sort by Popularity\n",
    "#Groupby Song Title, Sort by Popularity\n",
    "\n",
    "#Groupby Artist Name, Sort by Danceability\n",
    "#Groupby Song Title, Sort by Danceability\n",
    "\n",
    "#Find the relationship between Explicit & Popularity of an artist and a song\n",
    "\n",
    "#Groupby Explicit, sorty by Popularity of an Artist\n",
    "#Groupby Explicit, sorty by Popularity of an Song\n",
    "\n",
    "artist_names = spot_data[\"artists\"]\n"
   ]
  },
  {
   "cell_type": "code",
   "execution_count": null,
   "metadata": {},
   "outputs": [],
   "source": []
  }
 ],
 "metadata": {
  "kernelspec": {
   "display_name": "Python 3",
   "language": "python",
   "name": "python3"
  },
  "language_info": {
   "codemirror_mode": {
    "name": "ipython",
    "version": 3
   },
   "file_extension": ".py",
   "mimetype": "text/x-python",
   "name": "python",
   "nbconvert_exporter": "python",
   "pygments_lexer": "ipython3",
   "version": "3.8.5-final"
  }
 },
 "nbformat": 4,
 "nbformat_minor": 4
}